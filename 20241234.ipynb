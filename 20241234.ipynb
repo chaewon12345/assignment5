{
  "nbformat": 4,
  "nbformat_minor": 0,
  "metadata": {
    "colab": {
      "provenance": []
    },
    "kernelspec": {
      "name": "python3",
      "display_name": "Python 3"
    },
    "language_info": {
      "name": "python"
    }
  },
  "cells": [
    {
      "cell_type": "code",
      "source": [],
      "metadata": {
        "id": "GfUa0mkReEV9"
      },
      "execution_count": null,
      "outputs": []
    },
    {
      "cell_type": "markdown",
      "source": [
        "#교재 8장 연습문제\n",
        "\n",
        "##1\n",
        "최대 힙은 부모 노드는 항상 자식보다 크거나 같다는 완전 이진트리 성질을 만족하지만 자식들간의 크기 비교 규칙은 없다. 따라서 얕은 곳의 자식이 아닌 이상 더 작은 값을 가질 수 있다.\n",
        "\n",
        "##2\n",
        "최대힙은 루트에서 자식 방향으로만 정렬 규칙이 존재하기 때문에 항상 가장 작은 값을 가지고 있다고 보장할 수 없다.\n",
        "\n",
        "##3\n",
        "리프 노드는 heapify할 필요가 없기 때문에 노드 개수인 n/2개만큼은 그냥 넘어갈 수 있다.\n",
        "\n",
        "##4\n",
        "스며내리기는 리프 노드 가까이까지 가면 높이인 log n에 비례하는 시간이 들기 때문에 최악의 경우 Θ(log n) 시간이 들고 최선의 경우 Θ(1) 상수 시간이 든다.\n",
        "\n",
        "##5\n",
        "간단하지 않다.\n",
        "\n",
        "##6\n",
        "buildHeap()은 이미 배열이 다 주어진 상태로, 스며내리기 방식을 사용하면 평균 O(n)시간이 걸리고 스며오르기 방식을 사용하면 O(n logn) 시간이 걸린다. 따라서 스며내리기 방식이 더 효율적이다.\n",
        "\n",
        "##7\n",
        "스며오르기 방식을 사용해서 부모와 비교하며 위로 올라가며 힙 성질을 복구한다.\n",
        "\n",
        "\n",
        "\n"
      ],
      "metadata": {
        "id": "bwD-8hr0vX47"
      }
    },
    {
      "cell_type": "markdown",
      "source": [
        "#LeetCode 703."
      ],
      "metadata": {
        "id": "2ObRvAoecZLd"
      }
    },
    {
      "cell_type": "code",
      "source": [
        "import heapq\n",
        "\n",
        "class KthLargest:\n",
        "    def __init__(self, k: int, nums: list):\n",
        "        self.k = k\n",
        "        self.min_heap = []\n",
        "\n",
        "        for num in nums:\n",
        "            self.add(num)\n",
        "\n",
        "    def add(self, val: int) -> int:\n",
        "\n",
        "        heapq.heappush(self.min_heap, val)\n",
        "\n",
        "        if len(self.min_heap) > self.k:\n",
        "            heapq.heappop(self.min_heap)\n",
        "\n",
        "        return self.min_heap[0]\n"
      ],
      "metadata": {
        "id": "5X4gYNeZvarH"
      },
      "execution_count": null,
      "outputs": []
    },
    {
      "cell_type": "markdown",
      "source": [
        "#생일 느린 친구 10명 출력\n"
      ],
      "metadata": {
        "id": "ac7MK1nmvXJI"
      }
    },
    {
      "cell_type": "code",
      "source": [
        "import csv\n",
        "from datetime import datetime\n",
        "import heapq\n",
        "\n",
        "\n",
        "def birth_to_number(birthday: str) -> int:\n",
        "    birthday = birthday.strip()\n",
        "    if not birthday:\n",
        "        raise ValueError\n",
        "    dt = datetime.strptime(birthday, \"%Y%m%d\")\n",
        "    return int(dt.timestamp())\n",
        "\n",
        "heap = []\n",
        "\n",
        "with open(\"birthday.csv\", encoding=\"utf-8\") as f:\n",
        "    reader = csv.DictReader(f)\n",
        "    for row in reader:\n",
        "        name = row['이름']\n",
        "        birthday = row['생년월일8자리(예.20040101)']\n",
        "        try:\n",
        "            bday_number = birth_to_number(birthday)\n",
        "            heapq.heappush(heap, (-bday_number, name, birthday))\n",
        "        except ValueError:\n",
        "            pass\n",
        "\n",
        "\n",
        "for _ in range(min(10, len(heap))):\n",
        "    _, name, birthday = heapq.heappop(heap)\n",
        "    print(f\"{name} - {birthday}\")\n"
      ],
      "metadata": {
        "colab": {
          "base_uri": "https://localhost:8080/"
        },
        "id": "bQU8Fz2CQafC",
        "outputId": "6c8ae657-cbb0-4cd7-ae49-780f1d2406d6"
      },
      "execution_count": 13,
      "outputs": [
        {
          "output_type": "stream",
          "name": "stdout",
          "text": [
            "신수민 - 20051230\n",
            "이서영 - 20051225\n",
            "강민주 - 20051214\n",
            "김민경 - 20051202\n",
            "이서영 - 20051112\n",
            "배시은 - 20051102\n",
            "김여원 - 20051031\n",
            "이서진 - 20051028\n",
            "서홍빈 - 20051024\n",
            "김예빈 - 20051019\n"
          ]
        }
      ]
    },
    {
      "cell_type": "markdown",
      "source": [
        "#같은 조 친구들의 이름과 생년월일 출력"
      ],
      "metadata": {
        "id": "BR4zY5RQco8D"
      }
    },
    {
      "cell_type": "code",
      "source": [
        "import csv\n",
        "from circularDoublyLinkedList import CircularDoublyLinkedList\n",
        "\n",
        "\n",
        "cdll = CircularDoublyLinkedList()\n",
        "\n",
        "with open(\"birthday.csv\", encoding=\"utf-8\") as f:\n",
        "    reader = csv.DictReader(f)\n",
        "    for row in reader:\n",
        "        name = row['이름']\n",
        "        birthday = row['생년월일8자리(예.20040101)'].strip()\n",
        "        if birthday:\n",
        "            cdll.append((name, birthday))\n",
        "\n",
        "target_names = ['김미배','유채원','주희선','이재인','김연우','김수민','양소윤','이서현','이서진','김남은','류현주']\n",
        "\n",
        "print(\"선택된 친구들:\")\n",
        "for target in target_names:\n",
        "    found = False\n",
        "    for item in cdll:\n",
        "        if item[0] == target:\n",
        "            print(f\"{item[0]} - {item[1]}\")\n",
        "            found = True\n",
        "            break\n",
        "    if not found:\n",
        "        print(f\"{target} 리스트에 없음\")\n"
      ],
      "metadata": {
        "colab": {
          "base_uri": "https://localhost:8080/"
        },
        "id": "ZO0tP_YXW6kq",
        "outputId": "af028a38-1da5-46db-efb3-a9196d03e51d"
      },
      "execution_count": 28,
      "outputs": [
        {
          "output_type": "stream",
          "name": "stdout",
          "text": [
            "선택된 친구들:\n",
            "김미배 - 20050324\n",
            "유채원 - 20050920\n",
            "주희선 - 20050926\n",
            "이재인 - 20041107\n",
            "김연우 리스트에 없음\n",
            "김수민 - 20041207\n",
            "양소윤 - 20030702\n",
            "이서현 - 20040609\n",
            "이서진 - 20050305\n",
            "김남은 - 20000209\n",
            "류현주 리스트에 없음\n"
          ]
        }
      ]
    }
  ]
}